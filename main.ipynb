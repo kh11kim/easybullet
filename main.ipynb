{
 "cells": [
  {
   "cell_type": "code",
   "execution_count": 1,
   "metadata": {},
   "outputs": [],
   "source": [
    "from easybullet.pose import SO3"
   ]
  },
  {
   "cell_type": "code",
   "execution_count": 2,
   "metadata": {},
   "outputs": [],
   "source": [
    "rot = SO3.identity()"
   ]
  },
  {
   "cell_type": "code",
   "execution_count": 3,
   "metadata": {},
   "outputs": [
    {
     "data": {
      "text/plain": [
       "array([0., 0., 0.])"
      ]
     },
     "execution_count": 3,
     "metadata": {},
     "output_type": "execute_result"
    }
   ],
   "source": [
    "rot.exp()"
   ]
  },
  {
   "cell_type": "code",
   "execution_count": 7,
   "metadata": {},
   "outputs": [],
   "source": [
    "SO3.from_euler(\"xyz\", [1,0,0])"
   ]
  },
  {
   "cell_type": "code",
   "execution_count": 6,
   "metadata": {},
   "outputs": [
    {
     "data": {
      "text/plain": [
       "array([0., 0., 0., 1.])"
      ]
     },
     "execution_count": 6,
     "metadata": {},
     "output_type": "execute_result"
    }
   ],
   "source": [
    "(rot @ rot.inverse()).xyzw"
   ]
  },
  {
   "cell_type": "code",
   "execution_count": 6,
   "metadata": {},
   "outputs": [
    {
     "data": {
      "text/plain": [
       "SO3(xyzw=[0. 0. 0. 1.])"
      ]
     },
     "execution_count": 6,
     "metadata": {},
     "output_type": "execute_result"
    }
   ],
   "source": [
    "rot.inverse()@rot"
   ]
  },
  {
   "cell_type": "code",
   "execution_count": 4,
   "metadata": {},
   "outputs": [
    {
     "data": {
      "text/plain": [
       "array([-0.8953247 , -0.35146215, -0.23285017, -0.14369703])"
      ]
     },
     "execution_count": 4,
     "metadata": {},
     "output_type": "execute_result"
    }
   ],
   "source": [
    "rot.wxyz"
   ]
  },
  {
   "cell_type": "code",
   "execution_count": 5,
   "metadata": {},
   "outputs": [
    {
     "data": {
      "text/plain": [
       "SO3(xyzw=[ 0.35146  0.23285  0.1437  -0.89532])"
      ]
     },
     "execution_count": 5,
     "metadata": {},
     "output_type": "execute_result"
    }
   ],
   "source": [
    "rot.inverse()"
   ]
  },
  {
   "cell_type": "code",
   "execution_count": 1,
   "metadata": {},
   "outputs": [],
   "source": [
    "import numpy as np"
   ]
  },
  {
   "cell_type": "code",
   "execution_count": 27,
   "metadata": {},
   "outputs": [],
   "source": [
    "from __future__ import annotations\n",
    "from scipy.spatial.transform import Rotation\n",
    "from dataclasses import dataclass\n",
    "import numpy as np\n",
    "from typing import *\n",
    "from typing_extensions import override\n",
    "\n",
    "class SO3(Rotation):\n",
    "    def __init__(self, xyzw):\n",
    "        super().__init__(quat=xyzw)\n",
    "    \n",
    "    @property\n",
    "    def xyzw(self): return self.as_quat()\n",
    "    @property\n",
    "    def wxyz(self): return np.roll(self.as_quat(), 1)\n",
    "    def __repr__(self) -> str:\n",
    "        xyzw = np.round(self.xyzw, 5)\n",
    "        return f\"{self.__class__.__name__}(wxyz={xyzw})\"\n",
    "    \n",
    "    @classmethod\n",
    "    def from_rotation_class(cls, rot:Rotation):\n",
    "        return cls(rot.as_quat())\n",
    "    @classmethod\n",
    "    def from_wxyz(cls, wxyz):\n",
    "        return cls(np.roll(wxyz, -1))\n",
    "    @override\n",
    "    @classmethod\n",
    "    def random(cls):\n",
    "        return cls.from_rotation_class(Rotation.random())\n",
    "    @override\n",
    "    @classmethod\n",
    "    def identity(cls):\n",
    "        return cls([0,0,0,1])\n",
    "    @override\n",
    "    @classmethod\n",
    "    def from_euler(cls, seq: str, angles: Sequence[float]):\n",
    "        \"\"\"{‘X’, ‘Y’, ‘Z’} for intrinsic rotations, or {‘x’, ‘y’, ‘z’} for extrinsic rotations\"\"\"\n",
    "        return cls.from_rotation_class(Rotation.from_euler(seq, angles))\n",
    "    @override\n",
    "    @classmethod\n",
    "    def from_matrix(cls, mat:np.ndarray):\n",
    "        return cls.from_rotation_class(Rotation.from_matrix(mat))\n",
    "    @override\n",
    "    def inverse(self):\n",
    "        return SO3.from_rotation_class(self.inv())\n",
    "    @override\n",
    "    def apply(self, target: np.ndarray) -> np.ndarray:\n",
    "        return super().apply(target)\n",
    "    def multiply(self, target: SO3):\n",
    "        return SO3.from_rotation_class(self * target)\n",
    "    def __matmul__(self, target: Union[SO3, np.ndarray]):\n",
    "        if isinstance(target, SO3):\n",
    "            return self.multiply(target)\n",
    "        elif isinstance(target, np.ndarray):\n",
    "            return self.apply(target)\n",
    "        raise ValueError"
   ]
  },
  {
   "cell_type": "code",
   "execution_count": 28,
   "metadata": {},
   "outputs": [],
   "source": [
    "rot = SO3.random()"
   ]
  },
  {
   "cell_type": "code",
   "execution_count": 32,
   "metadata": {},
   "outputs": [
    {
     "data": {
      "text/plain": [
       "['__module__',\n",
       " '__init__',\n",
       " 'xyzw',\n",
       " 'wxyz',\n",
       " '__repr__',\n",
       " 'from_rotation_class',\n",
       " 'from_wxyz',\n",
       " 'random',\n",
       " 'identity',\n",
       " 'from_euler',\n",
       " 'from_matrix',\n",
       " 'inverse',\n",
       " 'apply',\n",
       " 'multiply',\n",
       " '__matmul__',\n",
       " '__dict__',\n",
       " '__weakref__',\n",
       " '__doc__',\n",
       " '__mul__',\n",
       " '__rmul__',\n",
       " '__len__',\n",
       " '__getitem__',\n",
       " '__setitem__',\n",
       " '__delitem__',\n",
       " '__new__',\n",
       " '__getstate__',\n",
       " '__setstate__',\n",
       " 'from_quat',\n",
       " 'from_rotvec',\n",
       " 'from_mrp',\n",
       " 'as_quat',\n",
       " 'as_matrix',\n",
       " 'as_rotvec',\n",
       " 'as_euler',\n",
       " 'as_mrp',\n",
       " 'concatenate',\n",
       " 'inv',\n",
       " 'magnitude',\n",
       " 'mean',\n",
       " 'reduce',\n",
       " 'create_group',\n",
       " 'align_vectors',\n",
       " '__reduce_cython__',\n",
       " '__setstate_cython__',\n",
       " 'single',\n",
       " '__hash__',\n",
       " '__str__',\n",
       " '__getattribute__',\n",
       " '__setattr__',\n",
       " '__delattr__',\n",
       " '__lt__',\n",
       " '__le__',\n",
       " '__eq__',\n",
       " '__ne__',\n",
       " '__gt__',\n",
       " '__ge__',\n",
       " '__reduce_ex__',\n",
       " '__reduce__',\n",
       " '__subclasshook__',\n",
       " '__init_subclass__',\n",
       " '__format__',\n",
       " '__sizeof__',\n",
       " '__dir__',\n",
       " '__class__']"
      ]
     },
     "execution_count": 32,
     "metadata": {},
     "output_type": "execute_result"
    }
   ],
   "source": [
    "rot.__dir__()"
   ]
  },
  {
   "cell_type": "code",
   "execution_count": 34,
   "metadata": {},
   "outputs": [
    {
     "ename": "TypeError",
     "evalue": "__init__() got an unexpected keyword argument 'copy'",
     "output_type": "error",
     "traceback": [
      "\u001b[0;31m---------------------------------------------------------------------------\u001b[0m",
      "\u001b[0;31mTypeError\u001b[0m                                 Traceback (most recent call last)",
      "\u001b[0;32m/var/folders/_y/jwsg7ft16tq6wks_bwh9tkvh0000gn/T/ipykernel_27361/1045057190.py\u001b[0m in \u001b[0;36m<module>\u001b[0;34m\u001b[0m\n\u001b[0;32m----> 1\u001b[0;31m \u001b[0mrot\u001b[0m\u001b[0;34m.\u001b[0m\u001b[0minv\u001b[0m\u001b[0;34m(\u001b[0m\u001b[0;34m)\u001b[0m\u001b[0;34m\u001b[0m\u001b[0;34m\u001b[0m\u001b[0m\n\u001b[0m",
      "\u001b[0;32m_rotation.pyx\u001b[0m in \u001b[0;36mscipy.spatial.transform._rotation.Rotation.inv\u001b[0;34m()\u001b[0m\n",
      "\u001b[0;31mTypeError\u001b[0m: __init__() got an unexpected keyword argument 'copy'"
     ]
    }
   ],
   "source": [
    "rot.inv()"
   ]
  },
  {
   "cell_type": "code",
   "execution_count": 30,
   "metadata": {},
   "outputs": [
    {
     "ename": "TypeError",
     "evalue": "__init__() got an unexpected keyword argument 'normalize'",
     "output_type": "error",
     "traceback": [
      "\u001b[0;31m---------------------------------------------------------------------------\u001b[0m",
      "\u001b[0;31mTypeError\u001b[0m                                 Traceback (most recent call last)",
      "\u001b[0;32m/var/folders/_y/jwsg7ft16tq6wks_bwh9tkvh0000gn/T/ipykernel_27361/604251685.py\u001b[0m in \u001b[0;36m<module>\u001b[0;34m\u001b[0m\n\u001b[0;32m----> 1\u001b[0;31m \u001b[0mrot\u001b[0m\u001b[0;34m.\u001b[0m\u001b[0m__mul__\u001b[0m\u001b[0;34m(\u001b[0m\u001b[0mrot\u001b[0m\u001b[0;34m)\u001b[0m\u001b[0;34m\u001b[0m\u001b[0;34m\u001b[0m\u001b[0m\n\u001b[0m",
      "\u001b[0;32m_rotation.pyx\u001b[0m in \u001b[0;36mscipy.spatial.transform._rotation.Rotation.__mul__\u001b[0;34m()\u001b[0m\n",
      "\u001b[0;31mTypeError\u001b[0m: __init__() got an unexpected keyword argument 'normalize'"
     ]
    }
   ],
   "source": [
    "rot.__mul__(rot)"
   ]
  },
  {
   "cell_type": "code",
   "execution_count": 17,
   "metadata": {},
   "outputs": [
    {
     "data": {
      "text/plain": [
       "True"
      ]
     },
     "execution_count": 17,
     "metadata": {},
     "output_type": "execute_result"
    }
   ],
   "source": [
    "isinstance(rot, Rotation)"
   ]
  },
  {
   "cell_type": "code",
   "execution_count": 18,
   "metadata": {},
   "outputs": [
    {
     "ename": "TypeError",
     "evalue": "__init__() got an unexpected keyword argument 'normalize'",
     "output_type": "error",
     "traceback": [
      "\u001b[0;31m---------------------------------------------------------------------------\u001b[0m",
      "\u001b[0;31mTypeError\u001b[0m                                 Traceback (most recent call last)",
      "\u001b[0;32m/var/folders/_y/jwsg7ft16tq6wks_bwh9tkvh0000gn/T/ipykernel_27361/1191951534.py\u001b[0m in \u001b[0;36m<module>\u001b[0;34m\u001b[0m\n\u001b[0;32m----> 1\u001b[0;31m \u001b[0mrot\u001b[0m \u001b[0;34m*\u001b[0m \u001b[0mrot\u001b[0m\u001b[0;34m\u001b[0m\u001b[0;34m\u001b[0m\u001b[0m\n\u001b[0m",
      "\u001b[0;32m_rotation.pyx\u001b[0m in \u001b[0;36mscipy.spatial.transform._rotation.Rotation.__mul__\u001b[0;34m()\u001b[0m\n",
      "\u001b[0;31mTypeError\u001b[0m: __init__() got an unexpected keyword argument 'normalize'"
     ]
    }
   ],
   "source": [
    "rot * rot"
   ]
  },
  {
   "cell_type": "code",
   "execution_count": 12,
   "metadata": {},
   "outputs": [],
   "source": [
    "rot1 = Rotation(rot.xyzw)"
   ]
  },
  {
   "cell_type": "code",
   "execution_count": 14,
   "metadata": {},
   "outputs": [
    {
     "ename": "AttributeError",
     "evalue": "'scipy.spatial.transform._rotation.Rotation' object has no attribute '__dict__'",
     "output_type": "error",
     "traceback": [
      "\u001b[0;31m---------------------------------------------------------------------------\u001b[0m",
      "\u001b[0;31mAttributeError\u001b[0m                            Traceback (most recent call last)",
      "\u001b[0;32m/var/folders/_y/jwsg7ft16tq6wks_bwh9tkvh0000gn/T/ipykernel_27361/3419229287.py\u001b[0m in \u001b[0;36m<module>\u001b[0;34m\u001b[0m\n\u001b[0;32m----> 1\u001b[0;31m \u001b[0mrot1\u001b[0m\u001b[0;34m.\u001b[0m\u001b[0m__dict__\u001b[0m\u001b[0;34m\u001b[0m\u001b[0;34m\u001b[0m\u001b[0m\n\u001b[0m",
      "\u001b[0;31mAttributeError\u001b[0m: 'scipy.spatial.transform._rotation.Rotation' object has no attribute '__dict__'"
     ]
    }
   ],
   "source": [
    "rot1.__dict__"
   ]
  }
 ],
 "metadata": {
  "kernelspec": {
   "display_name": "base",
   "language": "python",
   "name": "python3"
  },
  "language_info": {
   "codemirror_mode": {
    "name": "ipython",
    "version": 3
   },
   "file_extension": ".py",
   "mimetype": "text/x-python",
   "name": "python",
   "nbconvert_exporter": "python",
   "pygments_lexer": "ipython3",
   "version": "3.9.13"
  },
  "orig_nbformat": 4
 },
 "nbformat": 4,
 "nbformat_minor": 2
}
